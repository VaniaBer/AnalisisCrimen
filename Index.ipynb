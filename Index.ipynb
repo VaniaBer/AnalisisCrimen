{
 "cells": [
  {
   "cell_type": "code",
   "execution_count": null,
   "metadata": {},
   "outputs": [],
   "source": [
    "import pandas as pd\n",
    "import numpy as np\n",
    "from time import strftime"
   ]
  },
  {
   "cell_type": "markdown",
   "metadata": {},
   "source": [
    "### Load data"
   ]
  },
  {
   "cell_type": "code",
   "execution_count": null,
   "metadata": {},
   "outputs": [],
   "source": [
    "data = pd.read_csv(\"carpetas_completa_julio2021.csv\")\n",
    "data.head()"
   ]
  },
  {
   "cell_type": "markdown",
   "metadata": {},
   "source": [
    "### 1. Pruebas para la calidad de ddatos."
   ]
  },
  {
   "cell_type": "markdown",
   "metadata": {},
   "source": [
    "#### Revisión del tipo de atos y casteos correspondientes: Muhas veces los datos deberían sr un tipo de datos específico pero pudieron haberse guarado como otro tipo de datos y para su mejor manejo es importante realizar las conversiones de tipo de datos respectivas."
   ]
  },
  {
   "cell_type": "markdown",
   "metadata": {},
   "source": [
    "#### Encontrar y eliminar registros duplicados: Para cualquier análisis es importante remver registros duplicados para no sesgar frecuencias o introducir basura."
   ]
  },
  {
   "cell_type": "markdown",
   "metadata": {},
   "source": [
    "#### Análisis de correlaciones: Es importante revisar que columnas tienen una fuerte correlación entre ellas, para posteriores fases del proyecto considerar dejar solo una de las columnas que tenga correlación alta con otra(s)."
   ]
  },
  {
   "cell_type": "markdown",
   "metadata": {},
   "source": [
    "#### Encontrar y darle el tratamiento respectivo a los datos faltantes (nulos): Es importante para la calidad de los datos revisar si hay datos faltantes y analizar  si es posible inferirlos o eliminarlos."
   ]
  },
  {
   "cell_type": "markdown",
   "metadata": {},
   "source": [
    "#### Análisis de outliers: Es importante evitar sesgos en estadísticas básicas y encontrar el comportamiento más normal de los datos ypara ello es importante identificar los posibles outliers y analizar si es conveniente removerlos o tratarlos por separado."
   ]
  },
  {
   "cell_type": "markdown",
   "metadata": {},
   "source": [
    "#### Consistencia en los valores de las variables categóricas. Es importante revisar la consistencia e identificar y unificar casos como: la variable género tiene  los siguientes valores para la opción \"Femenino\": F, fem, f,femenino."
   ]
  },
  {
   "cell_type": "markdown",
   "metadata": {},
   "source": [
    "#### Identificar comportamientos entre las fechas de inicio y las fechas de los hechos, hacer un análisis para identificar el tiempo promedio entre que ocurren y se inicia la investigación para identificar inconsistencias."
   ]
  },
  {
   "cell_type": "markdown",
   "metadata": {},
   "source": [
    "#### Hacer un análisis para identificar si los datos están balanceados."
   ]
  },
  {
   "cell_type": "markdown",
   "metadata": {},
   "source": [
    "#### Análisis de series de tiempo (para casos específicos de interés), el análisis de series de tiempo ayuda también para revisar elcomportamiento de los datos."
   ]
  },
  {
   "cell_type": "markdown",
   "metadata": {},
   "source": [
    "### Limpieza de datos."
   ]
  },
  {
   "cell_type": "code",
   "execution_count": null,
   "metadata": {},
   "outputs": [],
   "source": [
    "data.dtypes"
   ]
  },
  {
   "cell_type": "code",
   "execution_count": null,
   "metadata": {},
   "outputs": [],
   "source": [
    "data.isnull().sum()"
   ]
  },
  {
   "cell_type": "code",
   "execution_count": null,
   "metadata": {},
   "outputs": [],
   "source": [
    "data.shape"
   ]
  },
  {
   "cell_type": "code",
   "execution_count": null,
   "metadata": {},
   "outputs": [],
   "source": [
    "for x in data:\n",
    "    print(x)\n",
    "    print(data[x].value_counts(dropna = False))\n",
    "    print('\\n')"
   ]
  },
  {
   "cell_type": "code",
   "execution_count": null,
   "metadata": {},
   "outputs": [],
   "source": [
    "data.drop_duplicates(inplace = True)\n",
    "data['fecha_hechos'] = pd.to_datetime(data['fecha_hechos'])"
   ]
  },
  {
   "cell_type": "code",
   "execution_count": null,
   "metadata": {},
   "outputs": [],
   "source": [
    "data['fecha_hechos'].min()"
   ]
  },
  {
   "cell_type": "code",
   "execution_count": null,
   "metadata": {},
   "outputs": [],
   "source": [
    "data['fecha_hechos'].max()"
   ]
  },
  {
   "cell_type": "code",
   "execution_count": null,
   "metadata": {},
   "outputs": [],
   "source": [
    "data.delito.unique()"
   ]
  },
  {
   "cell_type": "code",
   "execution_count": null,
   "metadata": {},
   "outputs": [],
   "source": [
    "data.categoria_delito.unique()"
   ]
  },
  {
   "cell_type": "code",
   "execution_count": null,
   "metadata": {},
   "outputs": [],
   "source": [
    "data.head()"
   ]
  },
  {
   "cell_type": "markdown",
   "metadata": {},
   "source": [
    "### Delitos a la alza y baja en la CDMX"
   ]
  },
  {
   "cell_type": "markdown",
   "metadata": {},
   "source": [
    "##### es importante quitar registros que no tienen fecha de los hechos para realizar el análisis. Sería posible (dependiendo si el negocio y el análisis/modelo a realizar lo permiten) inferir las fechas de hecho con respecto a las fechas de inicio."
   ]
  },
  {
   "cell_type": "code",
   "execution_count": null,
   "metadata": {},
   "outputs": [],
   "source": [
    "data_fechas = data[data['fecha_hechos'].notnull()]\n",
    "data_fechas.shape"
   ]
  },
  {
   "cell_type": "markdown",
   "metadata": {},
   "source": [
    "##### nos quedamos con las columnas de interés"
   ]
  },
  {
   "cell_type": "code",
   "execution_count": null,
   "metadata": {},
   "outputs": [],
   "source": [
    "data_delito = data_fechas['ao_hechos','delito']"
   ]
  },
  {
   "cell_type": "markdown",
   "metadata": {},
   "source": [
    "##### dado que para identificar si los delitos van a la alza o a la baja actualmente, se requiere analizar sólo los últimos años (la cantidad de años dependerá también del tipo de estudio a realizar)"
   ]
  },
  {
   "cell_type": "code",
   "execution_count": null,
   "metadata": {},
   "outputs": [],
   "source": [
    "data_delito = data_delito[(data_delito['ao_hechos']>=2018)&(data_delito['ao_hechos']!=2021)]\n",
    "del data_fecha"
   ]
  },
  {
   "cell_type": "markdown",
   "metadata": {},
   "source": [
    "##### obtenemos la frecuencia por delito"
   ]
  },
  {
   "cell_type": "code",
   "execution_count": null,
   "metadata": {},
   "outputs": [],
   "source": [
    "df_delitos = pd.DataFrame(data_delito['delito'].value_counts()).reset.index()\n",
    "df_delitos.columns = ['delito', 'count']"
   ]
  },
  {
   "cell_type": "code",
   "execution_count": null,
   "metadata": {},
   "outputs": [],
   "source": [
    "df_delitos['count'].describe(percentiles = [.05,.1,.2,.25,.4,.5,.6,.75,.9,.95])"
   ]
  },
  {
   "cell_type": "markdown",
   "metadata": {},
   "source": [
    "##### obtenemos los delitos con muy pocas ocurrencias (no es posible saber si los delitos van a la alza o a la baja)"
   ]
  },
  {
   "cell_type": "code",
   "execution_count": null,
   "metadata": {},
   "outputs": [],
   "source": [
    "no_valid = df_delitos[df_delitos['count']<=2]['delito']"
   ]
  },
  {
   "cell_type": "markdown",
   "metadata": {},
   "source": [
    "##### quitamos los delitos con pocas ocurrencias"
   ]
  },
  {
   "cell_type": "code",
   "execution_count": null,
   "metadata": {},
   "outputs": [],
   "source": [
    "data_delito = data_delito[~data_delito.delito.isin(no_valid)]\n",
    "data_d = data_delito.copy()\n",
    "del df_delitos, data_delito\n",
    "df_date = data_d[['ao_hechos']]"
   ]
  },
  {
   "cell_type": "markdown",
   "metadata": {},
   "source": [
    "##### identiicamos que delittos ocurrieron en que año"
   ]
  },
  {
   "cell_type": "code",
   "execution_count": null,
   "metadata": {},
   "outputs": [],
   "source": [
    "data_dumm = pd.get_dummies(data_d[['delito']])\n",
    "del data_d\n",
    "data_dumm.columns = [x.split('delito_')[1] for x in data_dumm]\n",
    "data_dumm.shape"
   ]
  },
  {
   "cell_type": "markdown",
   "metadata": {},
   "source": [
    "#### agregamos la fecha"
   ]
  },
  {
   "cell_type": "code",
   "execution_count": null,
   "metadata": {},
   "outputs": [],
   "source": [
    "data_dumm = pd.concat([df_date, data_dumm], axis = 1)\n",
    "del df_date"
   ]
  },
  {
   "cell_type": "markdown",
   "metadata": {},
   "source": [
    "###### obtenemos el número de ocurrencia de delitos por año, la frecuencia (año, mes, etc)  debe ser determinada al tipo de negocio"
   ]
  },
  {
   "cell_type": "code",
   "execution_count": null,
   "metadata": {},
   "outputs": [],
   "source": [
    "data_dumm_gb = data_dumm.groupby('ao_hechos').sum()\n",
    "del data_dumm\n",
    "data_dumm_gb"
   ]
  },
  {
   "cell_type": "markdown",
   "metadata": {},
   "source": [
    "#### obtenemos las diferencias porcentuales de ocurrencia de cada delito entre cada año para determinar que delitos van a la alza y cales a la baja"
   ]
  },
  {
   "cell_type": "code",
   "execution_count": null,
   "metadata": {},
   "outputs": [],
   "source": [
    "data_pct = data_dumm_gb.pct_change()\n",
    "data_pct = data_pct.T.reset_index()\n",
    "data_pct"
   ]
  },
  {
   "cell_type": "code",
   "execution_count": null,
   "metadata": {},
   "outputs": [],
   "source": [
    "baja_nan = data_pct[data_pct[2020.0].isnull()]['index']\n",
    "baja_signo = data_pct[(data_pct[2020.0]<0)&(data_pct[2021.0]<0)]['index']\n",
    "baja = list(baja_nan) + list(baja_signo)\n",
    "baja = np.unique(np.array(baja))"
   ]
  },
  {
   "cell_type": "code",
   "execution_count": null,
   "metadata": {},
   "outputs": [],
   "source": [
    "alza = list(data_pct[(data_pct[2020.0]>0)&(data_pct[2021.0]>0)]['index'])"
   ]
  },
  {
   "cell_type": "markdown",
   "metadata": {},
   "source": [
    "##### los delitos que van a la alza los últimos años son"
   ]
  },
  {
   "cell_type": "code",
   "execution_count": null,
   "metadata": {},
   "outputs": [],
   "source": [
    "alza"
   ]
  },
  {
   "cell_type": "code",
   "execution_count": null,
   "metadata": {},
   "outputs": [],
   "source": [
    "len(alza)"
   ]
  },
  {
   "cell_type": "markdown",
   "metadata": {},
   "source": [
    "##### los delitos que van a la baja los últimos años son"
   ]
  },
  {
   "cell_type": "code",
   "execution_count": null,
   "metadata": {},
   "outputs": [],
   "source": [
    "baja"
   ]
  },
  {
   "cell_type": "code",
   "execution_count": null,
   "metadata": {},
   "outputs": [],
   "source": [
    "len(baja)"
   ]
  },
  {
   "cell_type": "markdown",
   "metadata": {},
   "source": [
    "### 3. Alcaldía con más y con menos delitos"
   ]
  },
  {
   "cell_type": "markdown",
   "metadata": {},
   "source": [
    "#### obtenemos el número de delitos por alcaldía"
   ]
  },
  {
   "cell_type": "code",
   "execution_count": null,
   "metadata": {},
   "outputs": [],
   "source": [
    "alcaldia = pd.DataFrame(data['alcaldia_hechos'].value_counts()).reset_index()\n",
    "alcaldia.columns = ['alcaldia','count']\n",
    "alcaldia"
   ]
  },
  {
   "cell_type": "markdown",
   "metadata": {},
   "source": [
    "#### el top 5 de alcaldías con más delitos es :"
   ]
  },
  {
   "cell_type": "code",
   "execution_count": null,
   "metadata": {},
   "outputs": [],
   "source": [
    "alcaldia.head()"
   ]
  },
  {
   "cell_type": "markdown",
   "metadata": {},
   "source": [
    "#### las calcaldías con un solo delito son"
   ]
  },
  {
   "cell_type": "code",
   "execution_count": null,
   "metadata": {},
   "outputs": [],
   "source": [
    "alcaldia[alcaldia['count']==1]['alcaldia'].unique()"
   ]
  },
  {
   "cell_type": "markdown",
   "metadata": {},
   "source": [
    "#### 4. Tendencias estacionales en la ocurrencia de delitos (mes, quincena, semana, dia de la semana)"
   ]
  },
  {
   "cell_type": "markdown",
   "metadata": {},
   "source": [
    "##### filtramos por los registros que si tienen fecha de hechos. Sería posible (dependiendo si el negocio y el análisis/modelo a realizar lo permiten) inferir las fechas de hecho con respecto a las fechas de inicio."
   ]
  },
  {
   "cell_type": "code",
   "execution_count": null,
   "metadata": {},
   "outputs": [],
   "source": [
    "data_fechas = data[data['fecha_hechos'].notnull()][['ao_hechos','mes_hechos','fecha_hechos','delito']]\n",
    "data_fechas.shape"
   ]
  },
  {
   "cell_type": "code",
   "execution_count": null,
   "metadata": {},
   "outputs": [],
   "source": [
    "data_fechas['mes'] = data_fechas['fecha_hechos'].map(lambda x: x.month)\n",
    "data_fechas['dia'] = data_fechas['fecha_hechos'].map(lambda x: x.day)\n",
    "data_fechas['dia_semana'] = data_fechas['fecha_hechos'].map(lambda x: x.weekday()) #0 monday\n",
    "data_fechas['semana'] = data_fechas['fecha_hechos'].map(lambda x: int(x.strftime(\"%U\")))\n",
    "data_fechas['quincena'] = data_fechas['week'].map(lambda x: round(x/2))\n",
    "data_fechas.head()"
   ]
  },
  {
   "cell_type": "markdown",
   "metadata": {},
   "source": [
    "#### Nos quedamos con las columnas de interés"
   ]
  },
  {
   "cell_type": "code",
   "execution_count": null,
   "metadata": {},
   "outputs": [],
   "source": [
    "df_dates = data_fechas[['delito', 'ao_hechos','mes','quincena','semana','dia_semana','dia']]"
   ]
  },
  {
   "cell_type": "markdown",
   "metadata": {},
   "source": [
    "#### obtenemos el top 5 de delitos que mas ocurren "
   ]
  },
  {
   "cell_type": "code",
   "execution_count": null,
   "metadata": {},
   "outputs": [],
   "source": [
    "top5_delitos = ['VIOLENCIA FAMILIAR', 'FRAUDE', 'ROBO DE OBJETOS', 'AMENAZAS', 'ROBO A NEGOCIO SIN VIOLENCIA']"
   ]
  },
  {
   "cell_type": "markdown",
   "metadata": {},
   "source": [
    "#### obtenemos el top 5 de los años, meses, quincenas, semanas y días con más ocurrencias de delitos"
   ]
  },
  {
   "cell_type": "code",
   "execution_count": null,
   "metadata": {},
   "outputs": [],
   "source": [
    "for col in [x for x in df_dates if 'delito'!=x]:\n",
    "    display(pd.DataFrame(df_dates[col].value_counts()).reset_index().head())"
   ]
  },
  {
   "cell_type": "markdown",
   "metadata": {},
   "source": [
    "#### obtenemos el top 5 de los años, meses, quincenas, semanas y días con más ocurrencias de delitos para cada uno de los delitos más ocurridos"
   ]
  },
  {
   "cell_type": "code",
   "execution_count": null,
   "metadata": {},
   "outputs": [],
   "source": [
    "for delito in top5_delitos:\n",
    "    aux = df_dates[df_dates['delitos']==delito]\n",
    "    print(delito)\n",
    "    for col in [x for x in df_dates if 'delito'!=x]:\n",
    "        display(pd.DataFrame(aux[col].value_counts()).reset_index().head())"
   ]
  },
  {
   "cell_type": "markdown",
   "metadata": {},
   "source": [
    "### 5. Delitos que caracterizan a cada alcaldía"
   ]
  },
  {
   "cell_type": "markdown",
   "metadata": {},
   "source": [
    "##### filtramos por los delitos que si tienen alcladía"
   ]
  },
  {
   "cell_type": "code",
   "execution_count": null,
   "metadata": {},
   "outputs": [],
   "source": [
    "data_alcaldia = data[data['alcaldia_hechos'].notnull()]"
   ]
  },
  {
   "cell_type": "code",
   "execution_count": null,
   "metadata": {},
   "outputs": [],
   "source": [
    "# función para obtener los delitos principales en cada alcaldia\n",
    "def get_principal(data, col_alcaldia, col_delito, i, delitos_omitidos = []):\n",
    "    df_worker = data.copy()\n",
    "    df_alcaldia_delitos = pd.DataFrame()\n",
    "    delitos = []\n",
    "    counts = []\n",
    "    opciones = []\n",
    "    if len(delitos_omitidos) != 0:\n",
    "        df_worker = df_worker[~df_worker[col_delito].isin(delitos_omitidos)]\n",
    "    for alcaldia in df_worker[col_alcaldia].unique():\n",
    "        aux  = df_worker[df_worker[col_alcaldia]==alcaldia]\n",
    "        if len(aux[col_delito].value_counts().keys()) <= i:\n",
    "            i = 0\n",
    "        delito = aux[col_delito].value_counts().keys()[i]\n",
    "        delitos.append(delito)\n",
    "        counts.append(aux[col_delito].value_counts().values[i])\n",
    "        opciones.append(len(aux[col_delito].value_counts().keys()))\n",
    "    df_alcaldia_delitos['alcaldia'] = df_worker[col_alcaldia].unique()\n",
    "    df_alcaldia_delitos[col_delito] = delitos\n",
    "    df_alcaldia_delitos[f'count_{col_delito}'] = counts\n",
    "    df_alcaldia_delitos['n_opciones'] = opciones\n",
    "    return df_alcaldia_delitos"
   ]
  },
  {
   "cell_type": "code",
   "execution_count": null,
   "metadata": {},
   "outputs": [],
   "source": [
    "# función para obtener el delito característico (delito que es frecuente en esa alcaldia y en el resto es menos frecuente)\n",
    "def get_caracteristico(data):\n",
    "    df_worker = data.copy()\n",
    "    dict_delito = {}\n",
    "    for delito in df_worker['delito'].unique():\n",
    "        aux = df_worker[df_worker['delito']==delito]\n",
    "        max_delito = aux['count_delito'].max()\n",
    "        dict_delito[delito] = max_delito\n",
    "    df_worker['caracteristico'] = df_worker[['delito', 'count_delito']].apply(lambda x: x[0] if x[1] == dict_delito[x[0]] else 'otro', axis = 1)\n",
    "    df_worker['n_opciones'] = df_worker['n_opciones'] - 1\n",
    "    return df_worker"
   ]
  },
  {
   "cell_type": "code",
   "execution_count": null,
   "metadata": {},
   "outputs": [],
   "source": [
    "# función para obtener las alcaldías que solo tienen un delito en toda la historia y las alcaldías que no tienen un delito que predomine\n",
    "def get_diferentes(data, data_2):\n",
    "    df_worker = data.copy()\n",
    "    data2 = data_2.copy()\n",
    "    list_no_validas = []\n",
    "    list_una_opcion = []\n",
    "    for alcaldia in df_worker['alcaldia_hechos'].unique()\n",
    "        aux = df_worker[df_worker['alcaldia_hechos']==alcaldia]\n",
    "        if aux.shape[0] != 1:\n",
    "            opciones_delitos = data2[data2['alcaldia']==alcaldia]['n_opciones'].values[0]\n",
    "            if aux.shape[0] == opciones_delitos:\n",
    "                list_no_validas.append(alcaldia)\n",
    "            elif opciones_delitos == 1:\n",
    "                list_una_opcion.append(alcaldia)\n",
    "        else:\n",
    "            list_una_opcion.append(alcaldia)\n",
    "    return list_no_validas, list_una_opcion"
   ]
  },
  {
   "cell_type": "code",
   "execution_count": null,
   "metadata": {},
   "outputs": [],
   "source": [
    "df_delitos = get_principal(data_alcaldia, 'alcaldia_hechos', 'delito', 0)\n",
    "df_delitos"
   ]
  },
  {
   "cell_type": "code",
   "execution_count": null,
   "metadata": {},
   "outputs": [],
   "source": [
    "list_no_validas, list_una_opcion = get_diferentes(data_alcaldia, df_delitos)"
   ]
  },
  {
   "cell_type": "code",
   "execution_count": null,
   "metadata": {},
   "outputs": [],
   "source": [
    "len(list_no_validas)"
   ]
  },
  {
   "cell_type": "code",
   "execution_count": null,
   "metadata": {},
   "outputs": [],
   "source": [
    "len(list_una_opcion)"
   ]
  },
  {
   "cell_type": "code",
   "execution_count": null,
   "metadata": {},
   "outputs": [],
   "source": [
    "df_alcaldia_delitos = df_delitos[~df_delitos['alcaldia'].isin(list_no_validas + list_una_opcion)].reset_index(drop = True)"
   ]
  },
  {
   "cell_type": "code",
   "execution_count": null,
   "metadata": {},
   "outputs": [],
   "source": [
    "df_caract = get_caracteristico(df_alcaldia_delitos)"
   ]
  },
  {
   "cell_type": "code",
   "execution_count": null,
   "metadata": {},
   "outputs": [],
   "source": [
    "ant_shape = 158\n",
    "actual_shape = 126\n",
    "i = 1"
   ]
  },
  {
   "cell_type": "code",
   "execution_count": null,
   "metadata": {},
   "outputs": [],
   "source": [
    "while (actual_shape != 0) or (actual_shape != ant_shape):\n",
    "    ant_shape = df_caract[df_caract['caracteristico']=='otro'].shape[0]\n",
    "    delitos_omitidos = df_caract['caracteristico'].unique()\n",
    "    alcaldias_no_caract = df_caract[(df_caract['caracteristico'] == 'otro')&(df_caract['n_opciones']>0)]['alcaldia'].unique()\n",
    "    df_no_caracteristico = data_alcaldia[data_alcaldia['alcaldia'].isin(alcaldias_no_caract)]\n",
    "    df_alcaldia_delitos = get_principal(df_no_caracteristico, 'alcaldia_hechos', 'delito', i, delitos_omitidos)\n",
    "    i = i + 1\n",
    "    df_caract_new = get_caracteristico(df_alcaldia_delitos)\n",
    "    df_caract = pd.concat([df_caract['caracteristico']!='otro'], df_caract_new)\n",
    "    actual_shape = df_caract[df_caract['caracteristico']== 'otro'].shape[0]"
   ]
  },
  {
   "cell_type": "code",
   "execution_count": null,
   "metadata": {},
   "outputs": [],
   "source": [
    "df_caract"
   ]
  },
  {
   "cell_type": "markdown",
   "metadata": {},
   "source": [
    "##### alcaldia con su delito caracteristico"
   ]
  },
  {
   "cell_type": "code",
   "execution_count": null,
   "metadata": {},
   "outputs": [],
   "source": [
    "df_caracteristico = df_caract[['alcaldia','caracteristico']]\n",
    "df_caracteristico"
   ]
  },
  {
   "cell_type": "markdown",
   "metadata": {},
   "source": [
    "##### alcaldias con una sola opción caracteristico"
   ]
  },
  {
   "cell_type": "code",
   "execution_count": null,
   "metadata": {},
   "outputs": [],
   "source": [
    "df_una_opcion = data_alcaldia[data_alcaldia['alcaldia_hechos'].isin(list_una_opcion)][['alcaldia_hechos', 'delito']].drop_duplicates().reset_index(drop = True)\n",
    "df_una_opcion"
   ]
  },
  {
   "cell_type": "code",
   "execution_count": null,
   "metadata": {},
   "outputs": [],
   "source": [
    "# alcaldias con un delito principal\n",
    "df_delitos"
   ]
  },
  {
   "cell_type": "markdown",
   "metadata": {},
   "source": [
    "### 6. Indicador del nivel de inseguridad"
   ]
  },
  {
   "cell_type": "code",
   "execution_count": null,
   "metadata": {},
   "outputs": [],
   "source": [
    "data_colonia = data[(data['alcaldia_hechos'].notnull())&(data['colonia_hechos'])]"
   ]
  },
  {
   "cell_type": "markdown",
   "metadata": {},
   "source": [
    "##### el indicador será para los últimos 10 años"
   ]
  },
  {
   "cell_type": "code",
   "execution_count": null,
   "metadata": {},
   "outputs": [],
   "source": [
    "data_colonia = data_colonia[data_colonia['ao_hechos']>=2010.0]\n",
    "data_colonia = data_colonia[['delito', 'categoria_delito', 'alcaldia_hechos', 'colonia_hechos']]\n",
    "data_colonia"
   ]
  },
  {
   "cell_type": "code",
   "execution_count": null,
   "metadata": {},
   "outputs": [],
   "source": [
    "alta_severidad_df = data_colonia[(data_colonia['delito'].str.contains('CON VIOLENCIA'))|(data_colonia['categoria_delito']!='DELITO DE BAJO IMPACTO')]\n",
    "alta_severidad_freq_df = pd.DataFrame(alta_severidad_df['colonia_hechos'].value_counts()).reset_index()"
   ]
  },
  {
   "cell_type": "code",
   "execution_count": null,
   "metadata": {},
   "outputs": [],
   "source": [
    "baja_severidad_df = data_colonia[~data_colonia['colonia_hechos'].isin(alta_severidad_df['colonia_hechos'].unique())]\n",
    "baja_severidad_freq_df = pd.DataFrame(baja_severidad_df['colonia_hechos'].value_counts()).reset_index()"
   ]
  },
  {
   "cell_type": "code",
   "execution_count": null,
   "metadata": {},
   "outputs": [],
   "source": [
    "index_4 = list(alta_severidad_freq_df[alta_severidad_freq_df['colonia_hechos']>alta_severidad_freq_df['colonia_hechos'].mean()]['index'])\n",
    "index_3 = list(alta_severidad_freq_df[alta_severidad_freq_df['colonia_hechos']<=alta_severidad_freq_df['colonia_hechos'].mean()]['index'])\n",
    "index_2 = list(baja_severidad_freq_df[baja_severidad_freq_df['colonia_hechos']>baja_severidad_freq_df['colonia_hechos'].mean()]['index'])\n",
    "index_1 = list(baja_severidad_freq_df[baja_severidad_freq_df['colonia_hechos']<=baja_severidad_freq_df['colonia_hechos'].mean()]['index'])"
   ]
  },
  {
   "cell_type": "code",
   "execution_count": null,
   "metadata": {},
   "outputs": [],
   "source": [
    "data_colonia['nivel_inseguridad'] = data_colonia['colonia_hechos'].map(lambda x: 'rojo' if x in index_4 else ('naranja' if x in index_3 else ('amarillo' if x in index_2 else 'verde')))"
   ]
  },
  {
   "cell_type": "code",
   "execution_count": null,
   "metadata": {},
   "outputs": [],
   "source": [
    "data_colonia['nivel_inseguridad'].value_counts()"
   ]
  },
  {
   "cell_type": "markdown",
   "metadata": {},
   "source": [
    "#### indicador"
   ]
  },
  {
   "cell_type": "code",
   "execution_count": null,
   "metadata": {},
   "outputs": [],
   "source": [
    "data_colonia"
   ]
  },
  {
   "cell_type": "code",
   "execution_count": null,
   "metadata": {},
   "outputs": [],
   "source": []
  }
 ],
 "metadata": {
  "kernelspec": {
   "display_name": "Python 3",
   "language": "python",
   "name": "python3"
  },
  "language_info": {
   "codemirror_mode": {
    "name": "ipython",
    "version": 3
   },
   "file_extension": ".py",
   "mimetype": "text/x-python",
   "name": "python",
   "nbconvert_exporter": "python",
   "pygments_lexer": "ipython3",
   "version": "3.6.13"
  }
 },
 "nbformat": 4,
 "nbformat_minor": 2
}
