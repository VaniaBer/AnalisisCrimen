import pandas as pd
import numpy as np
from time import strftime

###Load data

data = pd.read_csv("carpetas_completa_julio2021.csv")
data.head()

### 1. Pruebas para la calidad de ddatos.

#### Revisión del tipo de atos y casteos correspondientes: Muhas veces los datos deberían sr un tipo de datos específico pero pudieron haberse guarado como otro tipo
#### de datos y para su mejor manejo es importante realizar las conversiones de tipo de datos respectivas.

#### Encontrar y eliminar registros duplicados: Para cualquier análisis es importante remver registros duplicados para no sesgar frecuencias o introducir basura.

#### Análisis de correlaciones: Es importante revisar que columnas tienen una fuerte correlación entre ellas, para posteriores fases del proyecto considerar
#### dejar solo una de las columnas que tenga correlación alta con otra(s).

#### Encontrar y darle el tratamiento respectivo a los datos faltantes (nulos): Es importante para la calidad de los datos revisar si hay datos faltantes y analizar 
#### si es posible inferirlos o eliminarlos.

#### Análisis de outliers: Es importante evitar sesgos en estadísticas básicas y encontrar el comportamiento más normal de los datos ypara ello es importante identificar
#### los posibles outliers y analizar si es conveniente removerlos o tratarlos por separado.

#### Consistencia en los valores de las variables categóricas. Es importante revisar la consistencia e identificar y unificar casos como: la variable género tiene 
#### los siguientes valores para la opción "Femenino": F, fem, f,femenino.

#### Identificar comportamientos entre las fechas de inicio y las fechas de los hechos, hacer un análisis para identificar el tiempo promedio entre que ocurren
#### y se inicia la investigación para identificar inconsistencias.

#### Hacer un análisis para identificar si los datos están balanceados.

#### Análisis de series de tiempo (para casos específicos de interés), el análisis de series de tiempo ayuda también para revisar elcomportamiento de los datos.


### Limpieza de datos.


